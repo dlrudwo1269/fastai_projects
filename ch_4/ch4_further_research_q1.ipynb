{
   "cells": [
      {
         "cell_type": "markdown",
         "id": "598f82fc-d363-4685-808d-2255ce37dc45",
         "metadata": {},
         "source": [
            "# Chapter 4 Further Research Q1"
         ]
      },
      {
         "cell_type": "markdown",
         "id": "1814b14e-3b3b-4c5d-9aa9-5baa83e4dee3",
         "metadata": {},
         "source": [
            "### Task: Create your own implementation of `Learner` from scratch, based on the training loop shown in this chapter.\n",
            "\n",
            "Some basic questions we need to clarify before we start:\n",
            "1. What is a `Learner`?\n",
            "- A `Learner` takes in a `DataLoaders` object, a model, an optimization function, a loss function, and optionally any metrics to print\n",
            "2. What methods should it be able to support?\n",
            "- A constructor and a `fit` method"
         ]
      },
      {
         "cell_type": "markdown",
         "id": "6f3801d9-b577-4975-a186-20bca0a70ce7",
         "metadata": {},
         "source": [
            "Based on this, we will define our `Learner` class as follows:"
         ]
      },
      {
         "cell_type": "code",
         "execution_count": 1,
         "id": "d0948ffb-61e0-4616-a3f9-3a3a6ec75ce0",
         "metadata": {},
         "outputs": [],
         "source": [
            "from fastai.vision.all import *"
         ]
      },
      {
         "cell_type": "code",
         "execution_count": 2,
         "id": "8b4c77a6-3cef-4b26-8b00-cec963c38977",
         "metadata": {},
         "outputs": [],
         "source": [
            "class Learner:\n",
            "    def __init__(self, dls, model, opt_func, loss_func, metric, lr):\n",
            "        self.dls = dls\n",
            "        self.model = model\n",
            "        self.optimizer = opt_func(model.parameters(), lr=lr)\n",
            "        self.loss_func = loss_func\n",
            "        self.metric = metric\n",
            "    \n",
            "    \n",
            "    def _train_epoch(self):\n",
            "        \"\"\"Performs one training cycle through the training dataset.\"\"\"\n",
            "        for xb, yb in self.dls.train:\n",
            "            preds = self.model(xb).sigmoid()\n",
            "            loss = self.loss_func(preds, yb)\n",
            "            loss.backward()\n",
            "            self.optimizer.step()\n",
            "            self.optimizer.zero_grad()\n",
            "\n",
            "\n",
            "    def _validate_epoch(self):\n",
            "        metrics = [self.metric(self.model(xb), yb) for xb, yb in self.dls.valid]\n",
            "        return round(torch.stack(metrics).mean().item(), 4)\n",
            "    \n",
            "        \n",
            "    def fit(self, epochs):\n",
            "        print(\"Metrics for each epoch:\")\n",
            "        for _ in range(epochs):\n",
            "            self._train_epoch()\n",
            "            metric = self._validate_epoch()\n",
            "            print(metric)"
         ]
      },
      {
         "cell_type": "markdown",
         "id": "8785b4c0-f47c-426c-b78e-e2ff49367730",
         "metadata": {},
         "source": [
            "We will be testing the `Learner` with the sample MNIST dataset, which only contains data for the digits 3 and 7 (this is the dataset used in the textbook). Each image has dimension 28 * 28."
         ]
      },
      {
         "cell_type": "code",
         "execution_count": 3,
         "id": "4298fcf9-bf7a-49b7-b18d-230f4694e486",
         "metadata": {},
         "outputs": [
            {
               "data": {
                  "text/plain": [
                     "(#3) [Path('valid'),Path('labels.csv'),Path('train')]"
                  ]
               },
               "execution_count": 3,
               "metadata": {},
               "output_type": "execute_result"
            }
         ],
         "source": [
            "path = Path('/Users/kyungjaelee/.fastai/data/mnist_sample')\n",
            "Path.BASE_PATH = path\n",
            "path.ls()"
         ]
      },
      {
         "cell_type": "code",
         "execution_count": 4,
         "id": "9064d20c-0217-4824-8288-421f3812a6dd",
         "metadata": {},
         "outputs": [],
         "source": [
            "# define training set\n",
            "train_threes = torch.stack([tensor(Image.open(o)) for o in (path/'train'/'3').ls()]).float()/255\n",
            "train_sevens = torch.stack([tensor(Image.open(o)) for o in (path/'train'/'7').ls()]).float()/255\n",
            "train_x = torch.cat([train_threes, train_sevens]).view(-1, 28 * 28)\n",
            "train_y = tensor([1] * len(train_threes) + [0] * len(train_sevens)).unsqueeze(1)\n",
            "\n",
            "train_dset = list(zip(train_x, train_y))\n",
            "train_dl = DataLoader(train_dset, batch_size=256)"
         ]
      },
      {
         "cell_type": "code",
         "execution_count": 5,
         "id": "baba5a19-6f65-430e-b392-948618fcaf57",
         "metadata": {},
         "outputs": [],
         "source": [
            "# define validation set\n",
            "valid_threes = torch.stack([tensor(Image.open(o)) for o in (path/'valid'/'3').ls()]).float()/255\n",
            "valid_sevens = torch.stack([tensor(Image.open(o)) for o in (path/'valid'/'7').ls()]).float()/255\n",
            "valid_x = torch.cat([valid_threes, valid_sevens]).view(-1, 28 * 28)\n",
            "valid_y = tensor([1] * len(valid_threes) + [0] * len(valid_sevens)).unsqueeze(1)\n",
            "\n",
            "valid_dset = list(zip(valid_x, valid_y))\n",
            "valid_dl = DataLoader(valid_dset, batch_size=256)"
         ]
      },
      {
         "cell_type": "code",
         "execution_count": 6,
         "id": "0a7f0195-e4d1-4dd9-b4f2-e83709530ad3",
         "metadata": {},
         "outputs": [],
         "source": [
            "# create DataLoaders\n",
            "dls = DataLoaders(train_dl, valid_dl)"
         ]
      },
      {
         "cell_type": "code",
         "execution_count": 7,
         "id": "b7a3974b-4534-48a5-b94b-25021d8626a8",
         "metadata": {},
         "outputs": [],
         "source": [
            "# create model\n",
            "model = nn.Sequential(\n",
            "    nn.Linear(28*28, 30),\n",
            "    nn.ReLU(),\n",
            "    nn.Linear(30, 1),\n",
            ")"
         ]
      },
      {
         "cell_type": "code",
         "execution_count": 8,
         "id": "4388624d-6dcc-4161-8c86-52422f088b43",
         "metadata": {},
         "outputs": [],
         "source": [
            "# define metric to use to evaluate the model\n",
            "def batch_accuracy(xb, yb):\n",
            "    preds = xb.sigmoid()\n",
            "    correct = (preds>0.5) == yb\n",
            "    return correct.float().mean()"
         ]
      },
      {
         "cell_type": "code",
         "execution_count": 9,
         "id": "e70ba09b-d4f6-4a01-8797-f4551dfdfda1",
         "metadata": {},
         "outputs": [],
         "source": [
            "learn = Learner(dls, nn.Linear(28*28, 1), opt_func=SGD, loss_func=F.l1_loss, metric=batch_accuracy, lr=0.001)"
         ]
      },
      {
         "cell_type": "code",
         "execution_count": 10,
         "id": "6ea41637-7bb7-4d2d-8d98-e47b17449469",
         "metadata": {},
         "outputs": [
            {
               "name": "stdout",
               "output_type": "stream",
               "text": [
                  "Metrics for each epoch:\n",
                  "0.562\n",
                  "0.7138\n",
                  "0.8106\n",
                  "0.8673\n",
                  "0.888\n",
                  "0.9082\n",
                  "0.9209\n",
                  "0.9288\n",
                  "0.9332\n",
                  "0.9431\n",
                  "0.9465\n",
                  "0.9509\n",
                  "0.9538\n",
                  "0.9553\n",
                  "0.9583\n",
                  "0.9578\n",
                  "0.9583\n",
                  "0.9588\n",
                  "0.9593\n",
                  "0.9597\n",
                  "0.9597\n",
                  "0.9597\n",
                  "0.9597\n",
                  "0.9597\n",
                  "0.9583\n",
                  "0.9583\n",
                  "0.9583\n",
                  "0.9593\n",
                  "0.9593\n",
                  "0.9593\n"
               ]
            }
         ],
         "source": [
            "learn.fit(30)"
         ]
      },
      {
         "cell_type": "markdown",
         "id": "888570db-1772-4e8f-901f-c5caa1eec438",
         "metadata": {},
         "source": [
            "We can see from the increasing accuracy that our `Learner` class is functioning as intended."
         ]
      }
   ],
   "metadata": {
      "kernelspec": {
         "display_name": "venv",
         "language": "python",
         "name": "venv"
      },
      "language_info": {
         "codemirror_mode": {
            "name": "ipython",
            "version": 3
         },
         "file_extension": ".py",
         "mimetype": "text/x-python",
         "name": "python",
         "nbconvert_exporter": "python",
         "pygments_lexer": "ipython3",
         "version": "3.10.9"
      }
   },
   "nbformat": 4,
   "nbformat_minor": 5
}